{
 "cells": [
  {
   "cell_type": "code",
   "execution_count": 11,
   "id": "d647294b",
   "metadata": {},
   "outputs": [
    {
     "name": "stdout",
     "output_type": "stream",
     "text": [
      "True\n"
     ]
    }
   ],
   "source": [
    "myStr =\"Youusf123\"\n",
    "number_1 = myStr.count\n",
    "print(myStr.isalnum())"
   ]
  },
  {
   "cell_type": "code",
   "execution_count": null,
   "id": "d05b88c0",
   "metadata": {},
   "outputs": [],
   "source": [
    "#List\n",
    "listOne =[]\n",
    "listOne.append(\"Yousuf\")\n",
    "listOne.append(\"Rafee\")\n",
    "listOne.append(\"Javed\")\n",
    "print(listOne)"
   ]
  }
 ],
 "metadata": {
  "kernelspec": {
   "display_name": "Python 3",
   "language": "python",
   "name": "python3"
  },
  "language_info": {
   "codemirror_mode": {
    "name": "ipython",
    "version": 3
   },
   "file_extension": ".py",
   "mimetype": "text/x-python",
   "name": "python",
   "nbconvert_exporter": "python",
   "pygments_lexer": "ipython3",
   "version": "3.10.11"
  }
 },
 "nbformat": 4,
 "nbformat_minor": 5
}
