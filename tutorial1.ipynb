{
 "cells": [
  {
   "cell_type": "code",
   "execution_count": 11,
   "id": "d647294b",
   "metadata": {},
   "outputs": [
    {
     "name": "stdout",
     "output_type": "stream",
     "text": [
      "True\n"
     ]
    }
   ],
   "source": [
    "myStr =\"Youusf123\"\n",
    "number_1 = myStr.count\n",
    "print(myStr.isalnum())"
   ]
  },
  {
   "cell_type": "code",
   "execution_count": 13,
   "id": "d05b88c0",
   "metadata": {},
   "outputs": [
    {
     "name": "stdout",
     "output_type": "stream",
     "text": [
      "['Yousuf', 'Rafee', 'Javed']\n"
     ]
    }
   ],
   "source": [
    "#List\n",
    "listOne =[]\n",
    "listOne.append(\"Yousuf\")\n",
    "listOne.append(\"Rafee\")\n",
    "listOne.append(\"Javed\")\n",
    "print(listOne)"
   ]
  },
  {
   "cell_type": "code",
   "execution_count": 14,
   "id": "767ae035",
   "metadata": {},
   "outputs": [
    {
     "data": {
      "text/plain": [
       "['One', 'Two']"
      ]
     },
     "execution_count": 14,
     "metadata": {},
     "output_type": "execute_result"
    }
   ],
   "source": [
    "#Indexing in List\n",
    "ListTwo = [\"Hello\",\"One\",\"Two\"]\n",
    "ListTwo[1:]"
   ]
  },
  {
   "cell_type": "code",
   "execution_count": 16,
   "id": "da7f9e54",
   "metadata": {},
   "outputs": [
    {
     "name": "stdout",
     "output_type": "stream",
     "text": [
      "['rafee', 'Kader Molla', 'kevin']\n"
     ]
    }
   ],
   "source": [
    "ListThree =[\"rafee\",\"kevin\"]\n",
    "ListThree.insert(1,'Kader Molla')\n",
    "print(ListThree)"
   ]
  },
  {
   "cell_type": "code",
   "execution_count": 23,
   "id": "bfaf89e7",
   "metadata": {},
   "outputs": [
    {
     "name": "stdout",
     "output_type": "stream",
     "text": [
      "set()\n",
      "{'Netflix', 'Amazon', 'HP'}\n"
     ]
    }
   ],
   "source": [
    "#an unordered collection of data\n",
    "# set does not support indexing\n",
    "set_var = set()\n",
    "print(set_var)\n",
    "\n",
    "#to add\n",
    "set_var.add('Hulk')\n",
    "\n",
    "#difference\n",
    "set1 = set()\n",
    "set2 = set()\n",
    "set1 ={\"Apple\",\"Google\",\"Samsung\"}\n",
    "set2= {\"Netflix\",\"HP\",'Amazon',\"Apple\"}\n",
    "\n",
    "#difference \n",
    "set2.difference_update(set1)\n",
    "print(set2)"
   ]
  },
  {
   "cell_type": "code",
   "execution_count": 29,
   "id": "02ed528e",
   "metadata": {},
   "outputs": [
    {
     "name": "stdout",
     "output_type": "stream",
     "text": [
      "<class 'dict'>\n",
      "Yousuf Borna\n",
      "25\n",
      "Computer Science\n",
      "name\n",
      "Age\n",
      "Major\n"
     ]
    }
   ],
   "source": [
    "my_dict = {\"name\":\"Yousuf Borna\",\"Age\":25,\"Major\":\"Computer Science\"}\n",
    "print(type(my_dict))\n",
    "\n",
    "#values\n",
    "for x in my_dict.values():\n",
    "    print(x)\n",
    "\n",
    "#keys\n",
    "for x in my_dict.keys():\n",
    "    print(x)\n",
    "\n",
    "\n"
   ]
  },
  {
   "cell_type": "code",
   "execution_count": 32,
   "id": "01c418bf",
   "metadata": {},
   "outputs": [
    {
     "name": "stdout",
     "output_type": "stream",
     "text": [
      "1960\n"
     ]
    }
   ],
   "source": [
    "#nested dict\n",
    "my_dict2 ={'car1': {'Mercedes': 1960}, 'car2': {'Audi': 1970}, 'car3': {'Ambassador': 1980}}\n",
    "\n",
    "print(my_dict2['car1']['Mercedes'])"
   ]
  },
  {
   "cell_type": "code",
   "execution_count": 33,
   "id": "74e48e7b",
   "metadata": {},
   "outputs": [],
   "source": [
    "#tuple\n",
    "my_tuple =(\"Krish\",\"Angur\",\"John\")"
   ]
  }
 ],
 "metadata": {
  "kernelspec": {
   "display_name": "Python 3",
   "language": "python",
   "name": "python3"
  },
  "language_info": {
   "codemirror_mode": {
    "name": "ipython",
    "version": 3
   },
   "file_extension": ".py",
   "mimetype": "text/x-python",
   "name": "python",
   "nbconvert_exporter": "python",
   "pygments_lexer": "ipython3",
   "version": "3.10.11"
  }
 },
 "nbformat": 4,
 "nbformat_minor": 5
}
